{
 "cells": [
  {
   "cell_type": "markdown",
   "metadata": {
    "colab_type": "text",
    "id": "3DR-eO17geWu"
   },
   "source": [
    "# Convolutional Neural Network"
   ]
  },
  {
   "cell_type": "markdown",
   "metadata": {
    "colab_type": "text",
    "id": "EMefrVPCg-60"
   },
   "source": [
    "### Importing the libraries"
   ]
  },
  {
   "cell_type": "code",
   "execution_count": 1,
   "metadata": {
    "colab": {},
    "colab_type": "code",
    "id": "sCV30xyVhFbE"
   },
   "outputs": [],
   "source": [
    "import tensorflow as tf\n",
    "from keras.preprocessing.image import ImageDataGenerator"
   ]
  },
  {
   "cell_type": "code",
   "execution_count": 2,
   "metadata": {
    "colab": {},
    "colab_type": "code",
    "id": "FIleuCAjoFD8"
   },
   "outputs": [
    {
     "data": {
      "text/plain": [
       "'2.5.0'"
      ]
     },
     "execution_count": 2,
     "metadata": {},
     "output_type": "execute_result"
    }
   ],
   "source": [
    "tf.__version__"
   ]
  },
  {
   "cell_type": "markdown",
   "metadata": {
    "colab_type": "text",
    "id": "oxQxCBWyoGPE"
   },
   "source": [
    "## Part 1 - Data Preprocessing"
   ]
  },
  {
   "cell_type": "markdown",
   "metadata": {
    "colab_type": "text",
    "id": "MvE-heJNo3GG"
   },
   "source": [
    "### Preprocessing the Training set"
   ]
  },
  {
   "cell_type": "code",
   "execution_count": 4,
   "metadata": {
    "colab": {},
    "colab_type": "code",
    "id": "0koUcJMJpEBD"
   },
   "outputs": [
    {
     "name": "stdout",
     "output_type": "stream",
     "text": [
      "Found 3995 images belonging to 2 classes.\n"
     ]
    }
   ],
   "source": [
    "train_datagen = ImageDataGenerator(rescale = 1./255,\n",
    "                                   shear_range = 0.2,\n",
    "                                   zoom_range = 0.2,\n",
    "                                   horizontal_flip = True)\n",
    "training_set = train_datagen.flow_from_directory('dataset/training_set',\n",
    "                                                 target_size = (64, 64),\n",
    "                                                 batch_size = 32,\n",
    "                                                 class_mode = 'binary')"
   ]
  },
  {
   "cell_type": "markdown",
   "metadata": {
    "colab_type": "text",
    "id": "mrCMmGw9pHys"
   },
   "source": [
    "### Preprocessing the Test set"
   ]
  },
  {
   "cell_type": "code",
   "execution_count": 5,
   "metadata": {
    "colab": {},
    "colab_type": "code",
    "id": "SH4WzfOhpKc3"
   },
   "outputs": [
    {
     "name": "stdout",
     "output_type": "stream",
     "text": [
      "Found 1991 images belonging to 2 classes.\n"
     ]
    }
   ],
   "source": [
    "test_datagen = ImageDataGenerator(rescale = 1./255)\n",
    "test_set = test_datagen.flow_from_directory('dataset/test_set',\n",
    "                                            target_size = (64, 64),\n",
    "                                            batch_size = 32,\n",
    "                                            class_mode = 'binary')"
   ]
  },
  {
   "cell_type": "markdown",
   "metadata": {
    "colab_type": "text",
    "id": "af8O4l90gk7B"
   },
   "source": [
    "## Part 2 - Building the CNN"
   ]
  },
  {
   "cell_type": "markdown",
   "metadata": {
    "colab_type": "text",
    "id": "ces1gXY2lmoX"
   },
   "source": [
    "### Initialising the CNN"
   ]
  },
  {
   "cell_type": "code",
   "execution_count": 6,
   "metadata": {
    "colab": {},
    "colab_type": "code",
    "id": "SAUt4UMPlhLS"
   },
   "outputs": [],
   "source": [
    "cnn = tf.keras.models.Sequential()"
   ]
  },
  {
   "cell_type": "markdown",
   "metadata": {
    "colab_type": "text",
    "id": "u5YJj_XMl5LF"
   },
   "source": [
    "### Step 1 - Convolution"
   ]
  },
  {
   "cell_type": "code",
   "execution_count": 7,
   "metadata": {
    "colab": {},
    "colab_type": "code",
    "id": "XPzPrMckl-hV"
   },
   "outputs": [],
   "source": [
    "cnn.add(tf.keras.layers.Conv2D(filters=32, kernel_size=3, activation='relu', input_shape=[64, 64, 3]))"
   ]
  },
  {
   "cell_type": "markdown",
   "metadata": {
    "colab_type": "text",
    "id": "tf87FpvxmNOJ"
   },
   "source": [
    "### Step 2 - Pooling"
   ]
  },
  {
   "cell_type": "code",
   "execution_count": 8,
   "metadata": {
    "colab": {},
    "colab_type": "code",
    "id": "ncpqPl69mOac"
   },
   "outputs": [],
   "source": [
    "cnn.add(tf.keras.layers.MaxPool2D(pool_size=2, strides=2))"
   ]
  },
  {
   "cell_type": "markdown",
   "metadata": {
    "colab_type": "text",
    "id": "xaTOgD8rm4mU"
   },
   "source": [
    "### Adding a second convolutional layer"
   ]
  },
  {
   "cell_type": "code",
   "execution_count": 9,
   "metadata": {
    "colab": {},
    "colab_type": "code",
    "id": "i_-FZjn_m8gk"
   },
   "outputs": [],
   "source": [
    "cnn.add(tf.keras.layers.Conv2D(filters=32, kernel_size=3, activation='relu'))\n",
    "cnn.add(tf.keras.layers.MaxPool2D(pool_size=2, strides=2))"
   ]
  },
  {
   "cell_type": "markdown",
   "metadata": {
    "colab_type": "text",
    "id": "tmiEuvTunKfk"
   },
   "source": [
    "### Step 3 - Flattening"
   ]
  },
  {
   "cell_type": "code",
   "execution_count": 10,
   "metadata": {
    "colab": {},
    "colab_type": "code",
    "id": "6AZeOGCvnNZn"
   },
   "outputs": [],
   "source": [
    "cnn.add(tf.keras.layers.Flatten())"
   ]
  },
  {
   "cell_type": "markdown",
   "metadata": {
    "colab_type": "text",
    "id": "dAoSECOm203v"
   },
   "source": [
    "### Step 4 - Full Connection"
   ]
  },
  {
   "cell_type": "code",
   "execution_count": 11,
   "metadata": {
    "colab": {},
    "colab_type": "code",
    "id": "8GtmUlLd26Nq"
   },
   "outputs": [],
   "source": [
    "cnn.add(tf.keras.layers.Dense(units=128, activation='relu'))"
   ]
  },
  {
   "cell_type": "markdown",
   "metadata": {
    "colab_type": "text",
    "id": "yTldFvbX28Na"
   },
   "source": [
    "### Step 5 - Output Layer"
   ]
  },
  {
   "cell_type": "code",
   "execution_count": 12,
   "metadata": {
    "colab": {},
    "colab_type": "code",
    "id": "1p_Zj1Mc3Ko_"
   },
   "outputs": [],
   "source": [
    "cnn.add(tf.keras.layers.Dense(units=1, activation='sigmoid'))"
   ]
  },
  {
   "cell_type": "markdown",
   "metadata": {
    "colab_type": "text",
    "id": "D6XkI90snSDl"
   },
   "source": [
    "## Part 3 - Training the CNN"
   ]
  },
  {
   "cell_type": "markdown",
   "metadata": {
    "colab_type": "text",
    "id": "vfrFQACEnc6i"
   },
   "source": [
    "### Compiling the CNN"
   ]
  },
  {
   "cell_type": "code",
   "execution_count": 13,
   "metadata": {
    "colab": {},
    "colab_type": "code",
    "id": "NALksrNQpUlJ"
   },
   "outputs": [],
   "source": [
    "cnn.compile(optimizer = 'adam', loss = 'binary_crossentropy', metrics = ['accuracy'])"
   ]
  },
  {
   "cell_type": "markdown",
   "metadata": {
    "colab_type": "text",
    "id": "ehS-v3MIpX2h"
   },
   "source": [
    "### Training the CNN on the Training set and evaluating it on the Test set"
   ]
  },
  {
   "cell_type": "code",
   "execution_count": 14,
   "metadata": {
    "colab": {},
    "colab_type": "code",
    "id": "XUj1W4PJptta"
   },
   "outputs": [
    {
     "name": "stdout",
     "output_type": "stream",
     "text": [
      "Epoch 1/25\n",
      "125/125 [==============================] - 23s 179ms/step - loss: 0.2499 - accuracy: 0.8974 - val_loss: 0.1550 - val_accuracy: 0.9392\n",
      "Epoch 2/25\n",
      "125/125 [==============================] - 20s 156ms/step - loss: 0.1099 - accuracy: 0.9627 - val_loss: 0.1367 - val_accuracy: 0.9488\n",
      "Epoch 3/25\n",
      "125/125 [==============================] - 21s 171ms/step - loss: 0.0958 - accuracy: 0.9695 - val_loss: 0.1207 - val_accuracy: 0.9558\n",
      "Epoch 4/25\n",
      "125/125 [==============================] - 20s 160ms/step - loss: 0.0733 - accuracy: 0.9765 - val_loss: 0.1200 - val_accuracy: 0.9573\n",
      "Epoch 5/25\n",
      "125/125 [==============================] - 20s 157ms/step - loss: 0.0674 - accuracy: 0.9780 - val_loss: 0.0932 - val_accuracy: 0.9684\n",
      "Epoch 6/25\n",
      "125/125 [==============================] - 20s 157ms/step - loss: 0.0529 - accuracy: 0.9810 - val_loss: 0.0601 - val_accuracy: 0.9784\n",
      "Epoch 7/25\n",
      "125/125 [==============================] - 20s 159ms/step - loss: 0.0472 - accuracy: 0.9847 - val_loss: 0.0541 - val_accuracy: 0.9839\n",
      "Epoch 8/25\n",
      "125/125 [==============================] - 19s 152ms/step - loss: 0.0447 - accuracy: 0.9852 - val_loss: 0.0483 - val_accuracy: 0.9834\n",
      "Epoch 9/25\n",
      "125/125 [==============================] - 20s 164ms/step - loss: 0.0365 - accuracy: 0.9890 - val_loss: 0.0485 - val_accuracy: 0.9854\n",
      "Epoch 10/25\n",
      "125/125 [==============================] - 22s 173ms/step - loss: 0.0346 - accuracy: 0.9895 - val_loss: 0.0911 - val_accuracy: 0.9729\n",
      "Epoch 11/25\n",
      "125/125 [==============================] - 20s 162ms/step - loss: 0.0321 - accuracy: 0.9902 - val_loss: 0.0712 - val_accuracy: 0.9764\n",
      "Epoch 12/25\n",
      "125/125 [==============================] - 20s 160ms/step - loss: 0.0451 - accuracy: 0.9850 - val_loss: 0.0535 - val_accuracy: 0.9819\n",
      "Epoch 13/25\n",
      "125/125 [==============================] - 19s 148ms/step - loss: 0.0318 - accuracy: 0.9895 - val_loss: 0.0480 - val_accuracy: 0.9849\n",
      "Epoch 14/25\n",
      "125/125 [==============================] - 20s 156ms/step - loss: 0.0288 - accuracy: 0.9907 - val_loss: 0.0417 - val_accuracy: 0.9869\n",
      "Epoch 15/25\n",
      "125/125 [==============================] - 22s 174ms/step - loss: 0.0316 - accuracy: 0.9882 - val_loss: 0.1002 - val_accuracy: 0.9663\n",
      "Epoch 16/25\n",
      "125/125 [==============================] - 22s 172ms/step - loss: 0.0437 - accuracy: 0.9847 - val_loss: 0.0548 - val_accuracy: 0.9809\n",
      "Epoch 17/25\n",
      "125/125 [==============================] - 20s 158ms/step - loss: 0.0252 - accuracy: 0.9910 - val_loss: 0.0650 - val_accuracy: 0.9819\n",
      "Epoch 18/25\n",
      "125/125 [==============================] - 20s 159ms/step - loss: 0.0367 - accuracy: 0.9877 - val_loss: 0.1105 - val_accuracy: 0.9699\n",
      "Epoch 19/25\n",
      "125/125 [==============================] - 19s 153ms/step - loss: 0.0335 - accuracy: 0.9865 - val_loss: 0.0681 - val_accuracy: 0.9739\n",
      "Epoch 20/25\n",
      "125/125 [==============================] - 20s 160ms/step - loss: 0.0255 - accuracy: 0.9902 - val_loss: 0.0558 - val_accuracy: 0.9849\n",
      "Epoch 21/25\n",
      "125/125 [==============================] - 20s 161ms/step - loss: 0.0232 - accuracy: 0.9925 - val_loss: 0.0673 - val_accuracy: 0.9789\n",
      "Epoch 22/25\n",
      "125/125 [==============================] - 19s 152ms/step - loss: 0.0276 - accuracy: 0.9892 - val_loss: 0.0531 - val_accuracy: 0.9824\n",
      "Epoch 23/25\n",
      "125/125 [==============================] - 19s 155ms/step - loss: 0.0400 - accuracy: 0.9865 - val_loss: 0.0493 - val_accuracy: 0.9829\n",
      "Epoch 24/25\n",
      "125/125 [==============================] - 19s 152ms/step - loss: 0.0175 - accuracy: 0.9942 - val_loss: 0.0461 - val_accuracy: 0.9884\n",
      "Epoch 25/25\n",
      "125/125 [==============================] - 19s 154ms/step - loss: 0.0186 - accuracy: 0.9932 - val_loss: 0.0451 - val_accuracy: 0.9879\n"
     ]
    },
    {
     "data": {
      "text/plain": [
       "<tensorflow.python.keras.callbacks.History at 0x12b43b64ac0>"
      ]
     },
     "execution_count": 14,
     "metadata": {},
     "output_type": "execute_result"
    }
   ],
   "source": [
    "cnn.fit(x = training_set, validation_data = test_set, epochs = 25)"
   ]
  },
  {
   "cell_type": "markdown",
   "metadata": {
    "colab_type": "text",
    "id": "U3PZasO0006Z"
   },
   "source": [
    "## Part 4 - Making a single prediction"
   ]
  },
  {
   "cell_type": "code",
   "execution_count": 18,
   "metadata": {
    "colab": {},
    "colab_type": "code",
    "id": "gsSiWEJY1BPB"
   },
   "outputs": [],
   "source": [
    "import numpy as np\n",
    "from keras.preprocessing import image\n",
    "test_image = image.load_img('dataset/test_set/with_mask/2597.png', target_size = (64, 64))\n",
    "test_image = image.img_to_array(test_image)\n",
    "test_image = np.expand_dims(test_image, axis = 0)\n",
    "result = cnn.predict(test_image)\n",
    "training_set.class_indices\n",
    "if result[0][0] == 1:\n",
    "  prediction = 'without mask'\n",
    "else:\n",
    "  prediction = 'with mask'"
   ]
  },
  {
   "cell_type": "code",
   "execution_count": 19,
   "metadata": {
    "colab": {},
    "colab_type": "code",
    "id": "ED9KB3I54c1i"
   },
   "outputs": [
    {
     "name": "stdout",
     "output_type": "stream",
     "text": [
      "without mask\n"
     ]
    }
   ],
   "source": [
    "print(prediction)"
   ]
  },
  {
   "cell_type": "code",
   "execution_count": null,
   "metadata": {},
   "outputs": [],
   "source": []
  }
 ],
 "metadata": {
  "colab": {
   "collapsed_sections": [],
   "name": "convolutional_neural_network.ipynb",
   "provenance": [],
   "toc_visible": true
  },
  "kernelspec": {
   "display_name": "Python 3",
   "language": "python",
   "name": "python3"
  },
  "language_info": {
   "codemirror_mode": {
    "name": "ipython",
    "version": 3
   },
   "file_extension": ".py",
   "mimetype": "text/x-python",
   "name": "python",
   "nbconvert_exporter": "python",
   "pygments_lexer": "ipython3",
   "version": "3.8.8"
  }
 },
 "nbformat": 4,
 "nbformat_minor": 1
}
